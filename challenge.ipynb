{
 "cells": [
  {
   "cell_type": "markdown",
   "metadata": {
    "id": "fh0DtRE_3FND"
   },
   "source": [
    "##introduccion"
   ]
  },
  {
   "cell_type": "markdown",
   "metadata": {
    "id": "wMqvLcf7sbNu"
   },
   "source": [
    "En este archivo puedes escribir lo que estimes conveniente. Te recomendamos detallar tu solución y todas las suposiciones que estás considerando. Aquí puedes ejecutar las funciones que definiste en los otros archivos de la carpeta src, medir el tiempo, memoria, etc."
   ]
  },
  {
   "cell_type": "markdown",
   "metadata": {
    "id": "tzPDFJxz3RdD"
   },
   "source": [
    "##instalacion de librerias"
   ]
  },
  {
   "cell_type": "code",
   "execution_count": 2,
   "metadata": {
    "colab": {
     "base_uri": "https://localhost:8080/"
    },
    "executionInfo": {
     "elapsed": 6649,
     "status": "ok",
     "timestamp": 1700071138068,
     "user": {
      "displayName": "kevin ulloa quezada",
      "userId": "07772651270684960090"
     },
     "user_tz": 180
    },
    "id": "9a7PttP-KwII",
    "outputId": "5b8454c3-ac4a-4b43-a90c-50d62e0bed44"
   },
   "outputs": [
    {
     "name": "stdout",
     "output_type": "stream",
     "text": [
      "Defaulting to user installation because normal site-packages is not writeable\n",
      "Requirement already satisfied: demoji in c:\\users\\kullo\\appdata\\roaming\\python\\python39\\site-packages (1.1.0)\n"
     ]
    }
   ],
   "source": [
    "!pip install demoji"
   ]
  },
  {
   "cell_type": "code",
   "execution_count": 3,
   "metadata": {
    "colab": {
     "base_uri": "https://localhost:8080/"
    },
    "executionInfo": {
     "elapsed": 10397,
     "status": "ok",
     "timestamp": 1700071148457,
     "user": {
      "displayName": "kevin ulloa quezada",
      "userId": "07772651270684960090"
     },
     "user_tz": 180
    },
    "id": "aMXKCLZwB3RH",
    "outputId": "2f9e2b2e-18ca-42e9-97a5-ccac9a5e0457"
   },
   "outputs": [
    {
     "name": "stdout",
     "output_type": "stream",
     "text": [
      "Defaulting to user installation because normal site-packages is not writeable\n",
      "Requirement already satisfied: memory-profiler in c:\\users\\kullo\\appdata\\roaming\\python\\python39\\site-packages (0.61.0)\n",
      "Requirement already satisfied: psutil in c:\\programdata\\anaconda3\\lib\\site-packages (from memory-profiler) (5.8.0)\n"
     ]
    }
   ],
   "source": [
    "!pip install memory-profiler"
   ]
  },
  {
   "cell_type": "markdown",
   "metadata": {
    "id": "o8dHM73n3IeE"
   },
   "source": [
    "## Import"
   ]
  },
  {
   "cell_type": "code",
   "execution_count": 4,
   "metadata": {
    "executionInfo": {
     "elapsed": 18,
     "status": "ok",
     "timestamp": 1700071148457,
     "user": {
      "displayName": "kevin ulloa quezada",
      "userId": "07772651270684960090"
     },
     "user_tz": 180
    },
    "id": "HwXi8kVksbNz"
   },
   "outputs": [],
   "source": [
    "file_path = \"farmers-protest-tweets-2021-2-4.json\""
   ]
  },
  {
   "cell_type": "code",
   "execution_count": 5,
   "metadata": {
    "executionInfo": {
     "elapsed": 561,
     "status": "ok",
     "timestamp": 1700071149001,
     "user": {
      "displayName": "kevin ulloa quezada",
      "userId": "07772651270684960090"
     },
     "user_tz": 180
    },
    "id": "4jwYdz39vhvd"
   },
   "outputs": [],
   "source": [
    "import json\n",
    "import demoji\n",
    "import pandas as pd\n",
    "from datetime import datetime\n",
    "from typing import List, Tuple\n",
    "from collections import Counter\n",
    "from collections import defaultdict"
   ]
  },
  {
   "cell_type": "markdown",
   "metadata": {
    "id": "wWAEJ3OH5KvM"
   },
   "source": [
    "descarga los emojis"
   ]
  },
  {
   "cell_type": "code",
   "execution_count": 6,
   "metadata": {
    "colab": {
     "base_uri": "https://localhost:8080/"
    },
    "executionInfo": {
     "elapsed": 9,
     "status": "ok",
     "timestamp": 1700071149001,
     "user": {
      "displayName": "kevin ulloa quezada",
      "userId": "07772651270684960090"
     },
     "user_tz": 180
    },
    "id": "94Q1x4vI4zpE",
    "outputId": "11309a26-6f1a-4b83-ac27-10137ef12d10"
   },
   "outputs": [
    {
     "name": "stderr",
     "output_type": "stream",
     "text": [
      "C:\\Users\\kullo\\AppData\\Local\\Temp\\ipykernel_24400\\2299328559.py:1: FutureWarning: The demoji.download_codes attribute is deprecated and will be removed from demoji in a future version. It is an unused attribute as emoji codes are now distributed directly with the demoji package.\n",
      "  demoji.download_codes()\n"
     ]
    }
   ],
   "source": [
    "demoji.download_codes()"
   ]
  },
  {
   "cell_type": "markdown",
   "metadata": {
    "id": "ieU46Z5J34Yc"
   },
   "source": [
    "##Creacion Dataframe"
   ]
  },
  {
   "cell_type": "code",
   "execution_count": 7,
   "metadata": {
    "colab": {
     "base_uri": "https://localhost:8080/"
    },
    "executionInfo": {
     "elapsed": 7,
     "status": "ok",
     "timestamp": 1700071149001,
     "user": {
      "displayName": "kevin ulloa quezada",
      "userId": "07772651270684960090"
     },
     "user_tz": 180
    },
    "id": "Vwylzvi6tEit",
    "outputId": "a5dc5270-2492-49d3-fbf5-9ef1988d4186"
   },
   "outputs": [
    {
     "name": "stdout",
     "output_type": "stream",
     "text": [
      "DataFrame creado con éxito.\n"
     ]
    }
   ],
   "source": [
    "registros = []\n",
    "\n",
    "try:\n",
    "    with open(file_path, 'r') as archivo:\n",
    "        for num_linea, linea in enumerate(archivo, start=1):\n",
    "            # Carga el objeto JSON de cada línea\n",
    "            try:\n",
    "                registro = json.loads(linea)\n",
    "                registros.append(registro)\n",
    "            except json.JSONDecodeError as e:\n",
    "                print(f\"Error al decodificar JSON en la línea {num_linea}: {linea.strip()}\")\n",
    "                print(e)\n",
    "except FileNotFoundError:\n",
    "    print(f\"Error: El archivo {file_path} no fue encontrado.\")\n",
    "except Exception as general_error:\n",
    "    print(f\"Error inesperado: {general_error}\")\n",
    "\n",
    "# Convierte la lista de registros a un DataFrame\n",
    "if registros:\n",
    "    df = pd.DataFrame(registros)\n",
    "    print(\"DataFrame creado con éxito.\")\n",
    "else:\n",
    "    print(\"No se encontraron registros válidos para crear el DataFrame.\")"
   ]
  },
  {
   "cell_type": "markdown",
   "metadata": {
    "id": "FHomQs6y4r_k"
   },
   "source": [
    "##top 10 fechas donde hay más tweets"
   ]
  },
  {
   "cell_type": "code",
   "execution_count": 8,
   "metadata": {
    "executionInfo": {
     "elapsed": 7,
     "status": "ok",
     "timestamp": 1700071149002,
     "user": {
      "displayName": "kevin ulloa quezada",
      "userId": "07772651270684960090"
     },
     "user_tz": 180
    },
    "id": "HK7MFgsmverd"
   },
   "outputs": [],
   "source": [
    "def get_top_users_by_date(data: pd.DataFrame) -> List[Tuple[datetime.date, str]]:\n",
    "    date_user_count = {}\n",
    "\n",
    "    try:\n",
    "        for index, entry in data.iterrows():\n",
    "            # Manejo de errores al convertir la fecha\n",
    "            try:\n",
    "                date_str = entry.get('date', '').split('T')[0]\n",
    "                date = datetime.strptime(date_str, '%Y-%m-%d').date()\n",
    "            except (ValueError, TypeError) as date_error:\n",
    "                print(f\"Error al convertir la fecha en la fila {index}: {date_error}\")\n",
    "                continue\n",
    "\n",
    "            # Manejo de errores al acceder al usuario\n",
    "            try:\n",
    "                user = entry.get('user', {}).get('username', '')\n",
    "            except (KeyError, AttributeError) as user_error:\n",
    "                print(f\"Error al acceder al nombre de usuario en la fila {index}: {user_error}\")\n",
    "                continue\n",
    "\n",
    "            if date not in date_user_count:\n",
    "                date_user_count[date] = Counter()\n",
    "            date_user_count[date][user] += 1\n",
    "\n",
    "    except Exception as general_error:\n",
    "        print(f\"Error inesperado: {general_error}\")\n",
    "        return []\n",
    "\n",
    "    top_users_by_date = [(date, user_count.most_common(1)[0][0]) for date, user_count in date_user_count.items()]\n",
    "    return sorted(top_users_by_date, key=lambda x: x[0], reverse=True)[:10]\n"
   ]
  },
  {
   "cell_type": "code",
   "execution_count": 9,
   "metadata": {
    "colab": {
     "base_uri": "https://localhost:8080/"
    },
    "executionInfo": {
     "elapsed": 6,
     "status": "ok",
     "timestamp": 1700071149002,
     "user": {
      "displayName": "kevin ulloa quezada",
      "userId": "07772651270684960090"
     },
     "user_tz": 180
    },
    "id": "55DyKD96ngK7",
    "outputId": "527b30c8-a523-42f2-c06d-cabb5c0b5dbb"
   },
   "outputs": [
    {
     "data": {
      "text/plain": [
       "[(datetime.date(2021, 2, 24), 'preetysaini321'),\n",
       " (datetime.date(2021, 2, 23), 'Surrypuria'),\n",
       " (datetime.date(2021, 2, 22), 'preetysaini321'),\n",
       " (datetime.date(2021, 2, 21), 'Surrypuria'),\n",
       " (datetime.date(2021, 2, 20), 'MangalJ23056160'),\n",
       " (datetime.date(2021, 2, 19), 'Preetm91'),\n",
       " (datetime.date(2021, 2, 18), 'neetuanjle_nitu'),\n",
       " (datetime.date(2021, 2, 17), 'RaaJVinderkaur'),\n",
       " (datetime.date(2021, 2, 16), 'jot__b'),\n",
       " (datetime.date(2021, 2, 15), 'jot__b')]"
      ]
     },
     "execution_count": 9,
     "metadata": {},
     "output_type": "execute_result"
    }
   ],
   "source": [
    "get_top_users_by_date(df)"
   ]
  },
  {
   "cell_type": "markdown",
   "metadata": {
    "id": "gd7FavmmKQ48"
   },
   "source": [
    "###medidor de memoria linea por linea Q1"
   ]
  },
  {
   "cell_type": "code",
   "execution_count": 10,
   "metadata": {
    "colab": {
     "base_uri": "https://localhost:8080/"
    },
    "executionInfo": {
     "elapsed": 979,
     "status": "ok",
     "timestamp": 1700072782183,
     "user": {
      "displayName": "kevin ulloa quezada",
      "userId": "07772651270684960090"
     },
     "user_tz": 180
    },
    "id": "oMdStiVdAZa3",
    "outputId": "a388081f-f161-4db2-f1d2-a7aa5ea00da3"
   },
   "outputs": [
    {
     "name": "stdout",
     "output_type": "stream",
     "text": [
      "\n"
     ]
    }
   ],
   "source": [
    "%load_ext memory_profiler\n",
    "%run q1_memory.py\n",
    "%run q1_time.py\n",
    "%mprun -f Q1_memory Q1_memory(df)"
   ]
  },
  {
   "cell_type": "markdown",
   "metadata": {
    "id": "a05mLoBHPFl-"
   },
   "source": [
    "###medidor de tiempo Q1"
   ]
  },
  {
   "cell_type": "code",
   "execution_count": 11,
   "metadata": {
    "colab": {
     "base_uri": "https://localhost:8080/"
    },
    "executionInfo": {
     "elapsed": 430,
     "status": "ok",
     "timestamp": 1700072783847,
     "user": {
      "displayName": "kevin ulloa quezada",
      "userId": "07772651270684960090"
     },
     "user_tz": 180
    },
    "id": "mA64ZenDOv42",
    "outputId": "6ac1d0a7-4795-4508-d10b-7452a9149499"
   },
   "outputs": [
    {
     "name": "stdout",
     "output_type": "stream",
     "text": [
      "6.59 s ± 0 ns per loop (mean ± std. dev. of 1 run, 1 loop each)\n"
     ]
    }
   ],
   "source": [
    "%timeit -r 1 -n 1 q1_time(df)"
   ]
  },
  {
   "cell_type": "code",
   "execution_count": 12,
   "metadata": {
    "colab": {
     "base_uri": "https://localhost:8080/"
    },
    "executionInfo": {
     "elapsed": 418,
     "status": "ok",
     "timestamp": 1700072785927,
     "user": {
      "displayName": "kevin ulloa quezada",
      "userId": "07772651270684960090"
     },
     "user_tz": 180
    },
    "id": "p6-k_s8LO14y",
    "outputId": "996a76df-7cf0-4358-b87c-908cce35f6f1"
   },
   "outputs": [
    {
     "name": "stdout",
     "output_type": "stream",
     "text": [
      "CPU times: total: 6.44 s\n",
      "Wall time: 6.5 s\n"
     ]
    },
    {
     "data": {
      "text/plain": [
       "[(datetime.date(2021, 2, 24), 'preetysaini321'),\n",
       " (datetime.date(2021, 2, 23), 'Surrypuria'),\n",
       " (datetime.date(2021, 2, 22), 'preetysaini321'),\n",
       " (datetime.date(2021, 2, 21), 'Surrypuria'),\n",
       " (datetime.date(2021, 2, 20), 'MangalJ23056160'),\n",
       " (datetime.date(2021, 2, 19), 'Preetm91'),\n",
       " (datetime.date(2021, 2, 18), 'neetuanjle_nitu'),\n",
       " (datetime.date(2021, 2, 17), 'RaaJVinderkaur'),\n",
       " (datetime.date(2021, 2, 16), 'jot__b'),\n",
       " (datetime.date(2021, 2, 15), 'jot__b')]"
      ]
     },
     "execution_count": 12,
     "metadata": {},
     "output_type": "execute_result"
    }
   ],
   "source": [
    "%time q1_time(df)"
   ]
  },
  {
   "cell_type": "markdown",
   "metadata": {
    "id": "GBI4ImWY45W_"
   },
   "source": [
    "##top 10 emojis más usados con su respectivo conteo"
   ]
  },
  {
   "cell_type": "code",
   "execution_count": 13,
   "metadata": {
    "executionInfo": {
     "elapsed": 302,
     "status": "ok",
     "timestamp": 1700072599162,
     "user": {
      "displayName": "kevin ulloa quezada",
      "userId": "07772651270684960090"
     },
     "user_tz": 180
    },
    "id": "zQpT1pXeP8OK"
   },
   "outputs": [],
   "source": [
    "def extract_emojis(text: str) -> List[str]:\n",
    "    try:\n",
    "        return list(demoji.findall(text).keys())\n",
    "    except Exception as extraction_error:\n",
    "        print(f\"Error al extraer emojis: {extraction_error}\")\n",
    "        return []\n",
    "\n",
    "def get_top_emojis(data: pd.DataFrame) -> List[Tuple[str, int]]:\n",
    "    emoji_counter = Counter()\n",
    "\n",
    "    try:\n",
    "        for _, entry in data.iterrows():\n",
    "            # Manejo de errores al acceder al contenido\n",
    "            try:\n",
    "                content = entry.get('content', '')\n",
    "            except (KeyError, AttributeError) as content_error:\n",
    "                print(f\"Error al acceder al contenido: {content_error}\")\n",
    "                continue\n",
    "\n",
    "            emojis = extract_emojis(content)\n",
    "            emoji_counter.update(emojis)\n",
    "\n",
    "    except Exception as general_error:\n",
    "        print(f\"Error inesperado: {general_error}\")\n",
    "        return []\n",
    "\n",
    "    return emoji_counter.most_common(10)"
   ]
  },
  {
   "cell_type": "code",
   "execution_count": 14,
   "metadata": {
    "colab": {
     "base_uri": "https://localhost:8080/"
    },
    "executionInfo": {
     "elapsed": 320,
     "status": "ok",
     "timestamp": 1700072602904,
     "user": {
      "displayName": "kevin ulloa quezada",
      "userId": "07772651270684960090"
     },
     "user_tz": 180
    },
    "id": "-Wfj8DHVQ80j",
    "outputId": "9784027c-0d62-4b78-d83f-136083eb6b26"
   },
   "outputs": [
    {
     "data": {
      "text/plain": [
       "[('🙏', 3203),\n",
       " ('😂', 1387),\n",
       " ('🚜', 1334),\n",
       " ('🌾', 1298),\n",
       " ('❤️', 1205),\n",
       " ('✊', 1110),\n",
       " ('🇮🇳', 938),\n",
       " ('🤣', 759),\n",
       " ('👍', 634),\n",
       " ('🙏🏻', 580)]"
      ]
     },
     "execution_count": 14,
     "metadata": {},
     "output_type": "execute_result"
    }
   ],
   "source": [
    "get_top_emojis(df)"
   ]
  },
  {
   "cell_type": "markdown",
   "metadata": {
    "id": "QVzNOvlIKXVZ"
   },
   "source": [
    "###medidor de memoria linea por linea Q2"
   ]
  },
  {
   "cell_type": "code",
   "execution_count": null,
   "metadata": {
    "colab": {
     "base_uri": "https://localhost:8080/"
    },
    "executionInfo": {
     "elapsed": 893,
     "status": "ok",
     "timestamp": 1700072707657,
     "user": {
      "displayName": "kevin ulloa quezada",
      "userId": "07772651270684960090"
     },
     "user_tz": 180
    },
    "id": "6f5cYXvBIlzX",
    "outputId": "2014ef30-0bd9-4b66-8678-52fd6f503ba3"
   },
   "outputs": [
    {
     "name": "stdout",
     "output_type": "stream",
     "text": [
      "The memory_profiler extension is already loaded. To reload it, use:\n",
      "  %reload_ext memory_profiler\n"
     ]
    }
   ],
   "source": [
    "%load_ext memory_profiler\n",
    "%run q2_memory.py\n",
    "%run q2_time.py\n",
    "%mprun -f Q2_memory Q2_memory(df)"
   ]
  },
  {
   "cell_type": "markdown",
   "metadata": {
    "id": "v1GDJzXUPNVd"
   },
   "source": [
    "###medidor de tiempo Q2"
   ]
  },
  {
   "cell_type": "code",
   "execution_count": null,
   "metadata": {
    "colab": {
     "base_uri": "https://localhost:8080/"
    },
    "executionInfo": {
     "elapsed": 363,
     "status": "ok",
     "timestamp": 1700072710750,
     "user": {
      "displayName": "kevin ulloa quezada",
      "userId": "07772651270684960090"
     },
     "user_tz": 180
    },
    "id": "XzLe1vWDN8U9",
    "outputId": "361f1d25-b5b6-437e-ac9d-a05265bcf4b3"
   },
   "outputs": [],
   "source": [
    "%timeit -r 1 -n 1 q2_time(df)\n"
   ]
  },
  {
   "cell_type": "code",
   "execution_count": null,
   "metadata": {
    "colab": {
     "base_uri": "https://localhost:8080/"
    },
    "executionInfo": {
     "elapsed": 394,
     "status": "ok",
     "timestamp": 1700072712650,
     "user": {
      "displayName": "kevin ulloa quezada",
      "userId": "07772651270684960090"
     },
     "user_tz": 180
    },
    "id": "hrJKYPw9OOvk",
    "outputId": "402d9bbc-6148-48e3-9835-d116fce78592"
   },
   "outputs": [],
   "source": [
    "%time q2_time(df)"
   ]
  },
  {
   "cell_type": "markdown",
   "metadata": {
    "id": "wn9QomUt49oU"
   },
   "source": [
    "##top 10 histórico de usuarios (username) más influyentes en función del conteo de las menciones (@) que registra cada uno de ellos"
   ]
  },
  {
   "cell_type": "code",
   "execution_count": null,
   "metadata": {
    "executionInfo": {
     "elapsed": 364,
     "status": "ok",
     "timestamp": 1700071375559,
     "user": {
      "displayName": "kevin ulloa quezada",
      "userId": "07772651270684960090"
     },
     "user_tz": 180
    },
    "id": "jp5HU_8PhpR9"
   },
   "outputs": [],
   "source": [
    "def top_influential_users(data: pd.DataFrame) -> List[Tuple[str, int]]:\n",
    "    mention_count = defaultdict(int)\n",
    "\n",
    "    try:\n",
    "        for index, row in data.iterrows():\n",
    "            # Manejo de errores al acceder a mentionedUsers\n",
    "            try:\n",
    "                mentioned_users = row.get(\"mentionedUsers\")\n",
    "            except (KeyError, AttributeError) as mentioned_users_error:\n",
    "                print(f\"Error al acceder a mentionedUsers en la fila {index}: {mentioned_users_error}\")\n",
    "                continue\n",
    "\n",
    "            # Verificar si mentioned_users no es nulo\n",
    "            if mentioned_users is not None:\n",
    "                for user in mentioned_users:\n",
    "                    # Manejo de errores al acceder a username\n",
    "                    try:\n",
    "                        username = user.get(\"username\")\n",
    "                    except (KeyError, AttributeError) as username_error:\n",
    "                        print(f\"Error al acceder a username en la fila {index}: {username_error}\")\n",
    "                        continue\n",
    "\n",
    "                    if username is not None:\n",
    "                        mention_count[username] += 1\n",
    "\n",
    "    except Exception as general_error:\n",
    "        print(f\"Error inesperado: {general_error}\")\n",
    "        return []\n",
    "\n",
    "    top_users = sorted(mention_count.items(), key=lambda x: x[1], reverse=True)[:10]\n",
    "    return top_users"
   ]
  },
  {
   "cell_type": "code",
   "execution_count": null,
   "metadata": {
    "colab": {
     "base_uri": "https://localhost:8080/"
    },
    "executionInfo": {
     "elapsed": 250,
     "status": "ok",
     "timestamp": 1700071378638,
     "user": {
      "displayName": "kevin ulloa quezada",
      "userId": "07772651270684960090"
     },
     "user_tz": 180
    },
    "id": "v-RBkxxqhtSN",
    "outputId": "ba3bf7eb-7d43-40f7-9f83-c5532e452fd8"
   },
   "outputs": [],
   "source": [
    "# Obtener el top 10\n",
    "top_10_users = top_influential_users(df)\n",
    "\n",
    "# Mostrar el resultado\n",
    "top_10_users"
   ]
  },
  {
   "cell_type": "markdown",
   "metadata": {
    "id": "gJ9UUHXAKbZh"
   },
   "source": [
    "###medidor de memoria linea por linea Q3"
   ]
  },
  {
   "cell_type": "code",
   "execution_count": null,
   "metadata": {
    "colab": {
     "base_uri": "https://localhost:8080/"
    },
    "executionInfo": {
     "elapsed": 312,
     "status": "ok",
     "timestamp": 1700072493133,
     "user": {
      "displayName": "kevin ulloa quezada",
      "userId": "07772651270684960090"
     },
     "user_tz": 180
    },
    "id": "laB0g90xIfum",
    "outputId": "f6a63be8-96f5-469d-b002-7aff52bc6598"
   },
   "outputs": [],
   "source": [
    "%load_ext memory_profiler\n",
    "%run q3_memory.py\n",
    "%run q3_time.py\n",
    "%mprun -f Q3_memory Q3_memory(df)"
   ]
  },
  {
   "cell_type": "markdown",
   "metadata": {
    "id": "4kcLR-FMPPnQ"
   },
   "source": [
    "###medidor de tiempo Q3"
   ]
  },
  {
   "cell_type": "code",
   "execution_count": null,
   "metadata": {
    "colab": {
     "base_uri": "https://localhost:8080/"
    },
    "executionInfo": {
     "elapsed": 311,
     "status": "ok",
     "timestamp": 1700072495069,
     "user": {
      "displayName": "kevin ulloa quezada",
      "userId": "07772651270684960090"
     },
     "user_tz": 180
    },
    "id": "8Nj5T9LnMs8U",
    "outputId": "f9d012fc-d7cc-4c9f-b4de-dcfdcc65cbfe"
   },
   "outputs": [],
   "source": [
    "%timeit -r 1 -n 1 q3_time(df)"
   ]
  },
  {
   "cell_type": "code",
   "execution_count": null,
   "metadata": {
    "colab": {
     "base_uri": "https://localhost:8080/"
    },
    "executionInfo": {
     "elapsed": 5,
     "status": "ok",
     "timestamp": 1700072496466,
     "user": {
      "displayName": "kevin ulloa quezada",
      "userId": "07772651270684960090"
     },
     "user_tz": 180
    },
    "id": "n8npIHSeM82D",
    "outputId": "d2d04763-e10f-450a-c22e-c72f416f247e"
   },
   "outputs": [],
   "source": [
    "%time q3_time(df)"
   ]
  }
 ],
 "metadata": {
  "colab": {
   "provenance": [],
   "toc_visible": true
  },
  "kernelspec": {
   "display_name": "Python 3 (ipykernel)",
   "language": "python",
   "name": "python3"
  },
  "language_info": {
   "codemirror_mode": {
    "name": "ipython",
    "version": 3
   },
   "file_extension": ".py",
   "mimetype": "text/x-python",
   "name": "python",
   "nbconvert_exporter": "python",
   "pygments_lexer": "ipython3",
   "version": "3.9.12"
  }
 },
 "nbformat": 4,
 "nbformat_minor": 1
}
